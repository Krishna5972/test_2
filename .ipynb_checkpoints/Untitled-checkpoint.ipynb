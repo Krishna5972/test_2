{
 "cells": [
  {
   "cell_type": "code",
   "execution_count": 1,
   "id": "9cf466f6",
   "metadata": {},
   "outputs": [
    {
     "data": {
      "text/plain": [
       "{'symbol': 'LUNA2BUSD', 'leverage': 10, 'maxNotionalValue': '100000'}"
      ]
     },
     "execution_count": 1,
     "metadata": {},
     "output_type": "execute_result"
    }
   ],
   "source": [
    "import requests\n",
    "import pandas as pd\n",
    "from datetime import datetime\n",
    "import time\n",
    "import ccxt\n",
    "import config\n",
    "from binance.client import Client\n",
    "import pandas as pd\n",
    "from bot_funtions import *\n",
    "import warnings\n",
    "warnings.filterwarnings('ignore')\n",
    "import pickle\n",
    "\n",
    "telegram_auth_token='5515290544:AAG9T15VaY6BIxX2VYX8x2qr34aC-zVEYMo'\n",
    "telegram_group_id='notifier2_scanner_bot_link'\n",
    "\n",
    "def notifier(message):\n",
    "    telegram_api_url=f'https://api.telegram.org/bot{telegram_auth_token}/sendMessage?chat_id=@{telegram_group_id}&text={message}'\n",
    "    tel_resp=requests.get(telegram_api_url)\n",
    "    if tel_resp.status_code==200:\n",
    "        pass\n",
    "    else:\n",
    "        notifier(message)\n",
    "        \n",
    "exchange = ccxt.binanceus({\n",
    "    \"apiKey\": config.api_key,\n",
    "    \"secret\": config.secret_key,\n",
    "    'options': {\n",
    "    'defaultType': 'future',\n",
    "    },\n",
    "})\n",
    "\n",
    "\n",
    "coin='LUNA2'\n",
    "timeframe='1m'\n",
    "atr_trend,period = 1,56\n",
    "stake=100\n",
    "\n",
    "client=Client(config.api_key,config.secret_key)\n",
    "\n",
    "client.futures_change_leverage(symbol=f'{coin}BUSD', leverage=10)\n"
   ]
  },
  {
   "cell_type": "code",
   "execution_count": 8,
   "id": "66b53447",
   "metadata": {},
   "outputs": [],
   "source": [
    "precision=0\n",
    "pricePrecision=2\n",
    "trade=None\n",
    "change_in_tp=0\n",
    "entry_2=0\n",
    "quantity =0\n",
    "tp_order_id=0\n",
    "signal=None"
   ]
  },
  {
   "cell_type": "code",
   "execution_count": null,
   "id": "85ca2e2e",
   "metadata": {},
   "outputs": [],
   "source": [
    "while True:\n",
    "    super_df=fetch_data(exchange,coin,timeframe,period,atr_trend)\n",
    "    entry=super_df.iloc[-1]['close']\n",
    "    quantity=round(stake/entry)\n",
    "    if super_df.iloc[-1]['in_uptrend'] != super_df.iloc[-2]['in_uptrend']:\n",
    "        print(super_df.iloc[-1]['in_uptrend'])\n",
    "        trade=1\n",
    "        if signal =='Buy':\n",
    "            client.futures_create_order(symbol=f'{coin}BUSD', side='SELL', type='MARKET', quantity=quantity,dualSidePosition=True,positionSide='LONG')\n",
    "        elif signal =='Sell':\n",
    "            client.futures_create_order(symbol=f'{coin}BUSD', side='BUY', type='MARKET', quantity=quantity,dualSidePosition=True,positionSide='SHORT')     \n",
    "\n",
    "        if str(super_df.iloc[-1]['in_uptrend']) == 'False':\n",
    "            client.futures_create_order(symbol=f'{coin}BUSD', side='BUY', type='MARKET', quantity=quantity,dualSidePosition=True,positionSide='LONG')\n",
    "            curr_trade='Buy'\n",
    "            signal=curr_trade\n",
    "        elif str(super_df.iloc[-1]['in_uptrend']) == 'True':\n",
    "            client.futures_create_order(symbol=f'{coin}BUSD', side='SELL', type='MARKET', quantity=quantity,dualSidePosition=True,positionSide='SHORT')\n",
    "            curr_trade='Sell'\n",
    "            signal=curr_trade\n",
    "        time.sleep(59)\n",
    "    elif trade==1:\n",
    "        if curr_trade=='Buy' and super_df.iloc[-2]['in_uptrend']=='False' and super_df['color']==-1:\n",
    "            close_position(client,coin,curr_trade)\n",
    "            trade=0\n",
    "        elif curr_trade=='Sell' and super_df.iloc[-2]['in_uptrend']=='True' and super_df['color']==1:\n",
    "            close_position(client,coin,curr_trade)\n",
    "            trade=0\n"
   ]
  },
  {
   "cell_type": "code",
   "execution_count": 10,
   "id": "cdef7756",
   "metadata": {},
   "outputs": [],
   "source": [
    "super_df=fetch_data(exchange,coin,timeframe,period,atr_trend)\n",
    "entry=super_df.iloc[-1]['close']\n",
    "quantity=round(stake/entry)"
   ]
  },
  {
   "cell_type": "code",
   "execution_count": 3,
   "id": "c8bef32d",
   "metadata": {},
   "outputs": [],
   "source": [
    "def close_position(client,coin,signal):\n",
    "    if signal == 'Buy':\n",
    "        client.futures_create_order(symbol=f'{coin}BUSD', side='SELL', type='MARKET', quantity=quantity,dualSidePosition=True,positionSide='LONG')\n",
    "    else:\n",
    "        client.futures_create_order(symbol=f'{coin}BUSD', side='BUY', type='MARKET', quantity=quantity,dualSidePosition=True,positionSide='SHORT')"
   ]
  },
  {
   "cell_type": "code",
   "execution_count": 11,
   "id": "86c08c18",
   "metadata": {},
   "outputs": [
    {
     "data": {
      "text/plain": [
       "{'orderId': 2148796839,\n",
       " 'symbol': 'LUNA2BUSD',\n",
       " 'status': 'NEW',\n",
       " 'clientOrderId': 'JdtVDFWdFIxrWHr9KWo8Q4',\n",
       " 'price': '0',\n",
       " 'avgPrice': '0.0000000',\n",
       " 'origQty': '33',\n",
       " 'executedQty': '0',\n",
       " 'cumQty': '0',\n",
       " 'cumQuote': '0',\n",
       " 'timeInForce': 'GTC',\n",
       " 'type': 'MARKET',\n",
       " 'reduceOnly': False,\n",
       " 'closePosition': False,\n",
       " 'side': 'SELL',\n",
       " 'positionSide': 'SHORT',\n",
       " 'stopPrice': '0',\n",
       " 'workingType': 'CONTRACT_PRICE',\n",
       " 'priceProtect': False,\n",
       " 'origType': 'MARKET',\n",
       " 'updateTime': 1663194166933}"
      ]
     },
     "execution_count": 11,
     "metadata": {},
     "output_type": "execute_result"
    }
   ],
   "source": [
    "client.futures_create_order(symbol=f'{coin}BUSD', side='SELL', type='MARKET', quantity=quantity,dualSidePosition=True,positionSide='SHORT')\n"
   ]
  },
  {
   "cell_type": "code",
   "execution_count": 12,
   "id": "28c19799",
   "metadata": {},
   "outputs": [
    {
     "data": {
      "text/plain": [
       "{'orderId': 2148806492,\n",
       " 'symbol': 'LUNA2BUSD',\n",
       " 'status': 'NEW',\n",
       " 'clientOrderId': 'cEkCMv02Ij405dH9iTyXyH',\n",
       " 'price': '0',\n",
       " 'avgPrice': '0.0000000',\n",
       " 'origQty': '33',\n",
       " 'executedQty': '0',\n",
       " 'cumQty': '0',\n",
       " 'cumQuote': '0',\n",
       " 'timeInForce': 'GTC',\n",
       " 'type': 'MARKET',\n",
       " 'reduceOnly': True,\n",
       " 'closePosition': False,\n",
       " 'side': 'BUY',\n",
       " 'positionSide': 'SHORT',\n",
       " 'stopPrice': '0',\n",
       " 'workingType': 'CONTRACT_PRICE',\n",
       " 'priceProtect': False,\n",
       " 'origType': 'MARKET',\n",
       " 'updateTime': 1663194185638}"
      ]
     },
     "execution_count": 12,
     "metadata": {},
     "output_type": "execute_result"
    }
   ],
   "source": [
    "client.futures_create_order(symbol=f'{coin}BUSD', side='BUY', type='MARKET', quantity=quantity,dualSidePosition=True,positionSide='SHORT')"
   ]
  },
  {
   "cell_type": "code",
   "execution_count": null,
   "id": "441ec023",
   "metadata": {},
   "outputs": [],
   "source": []
  }
 ],
 "metadata": {
  "kernelspec": {
   "display_name": "Python 3 (ipykernel)",
   "language": "python",
   "name": "python3"
  },
  "language_info": {
   "codemirror_mode": {
    "name": "ipython",
    "version": 3
   },
   "file_extension": ".py",
   "mimetype": "text/x-python",
   "name": "python",
   "nbconvert_exporter": "python",
   "pygments_lexer": "ipython3",
   "version": "3.9.12"
  }
 },
 "nbformat": 4,
 "nbformat_minor": 5
}
